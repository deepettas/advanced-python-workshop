{
 "cells": [
  {
   "cell_type": "markdown",
   "metadata": {},
   "source": [
    "# Python patterns:"
   ]
  },
  {
   "cell_type": "markdown",
   "metadata": {},
   "source": [
    "## Comprehensions:\n",
    "#### Documentation: https://python-3-patterns-idioms-test.readthedocs.io/en/latest/Comprehensions.html\n",
    "\n",
    "#### Situation: \n",
    " - We have one or more sources of iterable data.\n",
    " \n",
    "#### Need:\n",
    " - We want to do something with that data, and output it into a list, dictionary or generator format.\n",
    " \n",
    "#### Solution:\n",
    " - Python offers a cleaner/faster way of working without using traditional for loops.\n",
    "\n",
    "-----\n",
    "\n",
    " \n",
    "#### Example:\n",
    " - Lets take a traditional for loop"
   ]
  },
  {
   "cell_type": "code",
   "execution_count": 12,
   "metadata": {},
   "outputs": [
    {
     "data": {
      "text/plain": [
       "[0, 4, 16, 36, 64, 100]"
      ]
     },
     "execution_count": 12,
     "metadata": {},
     "output_type": "execute_result"
    }
   ],
   "source": [
    "even_squares = []\n",
    "for num in range(11):\n",
    "    if num%2 == 0:\n",
    "        even_squares.append(num * num)\n",
    "\n",
    "even_squares\n"
   ]
  },
  {
   "cell_type": "code",
   "execution_count": 18,
   "metadata": {},
   "outputs": [
    {
     "data": {
      "text/plain": [
       "[0, 4, 16, 36, 64, 100]"
      ]
     },
     "execution_count": 18,
     "metadata": {},
     "output_type": "execute_result"
    }
   ],
   "source": [
    "# Can we do better than the above?\n",
    "\n",
    "even_squares = [num*num for num in range(11) if num%2 == 0]\n",
    "\n",
    "even_squares"
   ]
  },
  {
   "cell_type": "markdown",
   "metadata": {},
   "source": [
    "### List comprehension Pattern:\n",
    "![alt text](https://miro.medium.com/max/1716/1*xUhlknsL6rR-s_DcVQK7kQ.png)\n",
    "##### [Figure reference](https://towardsdatascience.com/comprehending-the-concept-of-comprehensions-in-python-c9dafce5111)\n",
    " \n"
   ]
  },
  {
   "cell_type": "markdown",
   "metadata": {},
   "source": [
    "### We can do the same with dictionaries, or generators:"
   ]
  },
  {
   "cell_type": "code",
   "execution_count": 25,
   "metadata": {},
   "outputs": [
    {
     "data": {
      "text/plain": [
       "{'Mark': 'Zuckerberg',\n",
       " 'Demmis': 'Hasabis',\n",
       " 'Elon': 'Musk',\n",
       " 'Jeff': 'Bezos',\n",
       " 'Lex': 'Fridman'}"
      ]
     },
     "execution_count": 25,
     "metadata": {},
     "output_type": "execute_result"
    }
   ],
   "source": [
    "first_names = ['Mark', 'Demmis', 'Elon', 'Jeff', 'Lex']\n",
    "last_names = ['Zuckerberg','Hasabis', 'Musk','Bezos','Fridman']\n",
    "\n",
    "full_names = {}\n",
    "for first, last in zip(first_names, last_names):\n",
    "    full_names[first] = last\n",
    "    \n",
    "full_names"
   ]
  },
  {
   "cell_type": "code",
   "execution_count": 27,
   "metadata": {},
   "outputs": [
    {
     "data": {
      "text/plain": [
       "{'Mark': 'Zuckerberg',\n",
       " 'Demmis': 'Hasabis',\n",
       " 'Elon': 'Musk',\n",
       " 'Jeff': 'Bezos',\n",
       " 'Lex': 'Fridman'}"
      ]
     },
     "execution_count": 27,
     "metadata": {},
     "output_type": "execute_result"
    }
   ],
   "source": [
    "full_names = {first: last for first, last in zip(first_names, last_names)}\n",
    "\n",
    "full_names"
   ]
  },
  {
   "cell_type": "markdown",
   "metadata": {},
   "source": [
    "---"
   ]
  },
  {
   "cell_type": "markdown",
   "metadata": {},
   "source": [
    "## Decorators:\n",
    "\n",
    "- The main notion is that in Python, everything is an object.\n",
    "- Created Functions are also objects, so they can be passed to other functions. \n",
    "- Decorators rely on that notion.\n"
   ]
  },
  {
   "cell_type": "code",
   "execution_count": 28,
   "metadata": {},
   "outputs": [],
   "source": [
    "def foo():\n",
    "    def bar():\n",
    "        return 'I am bar'\n",
    "    \n",
    "    print(bar())\n"
   ]
  },
  {
   "cell_type": "code",
   "execution_count": 35,
   "metadata": {},
   "outputs": [
    {
     "name": "stdout",
     "output_type": "stream",
     "text": [
      "I do something before then I call the function you gave me\n",
      "doing something\n",
      "doing something\n",
      "I do something after I call the function you gave me\n"
     ]
    }
   ],
   "source": [
    "def doSomethingBefore(func): \n",
    "    print ('I do something before then I call the function you gave me')\n",
    "    func()\n",
    "    \n",
    "def doSomethingAfter(func): \n",
    "    func()\n",
    "    print ('I do something after I call the function you gave me')\n",
    "\n",
    "    \n",
    "def foo():\n",
    "    print('doing something')\n",
    "    \n",
    "doSomethingBefore(foo)"
   ]
  },
  {
   "cell_type": "markdown",
   "metadata": {},
   "source": [
    "### But can we do it better?"
   ]
  },
  {
   "cell_type": "code",
   "execution_count": 41,
   "metadata": {},
   "outputs": [],
   "source": [
    "def my_decorator(func):\n",
    "    def wrapper():\n",
    "        print('Do something before')\n",
    "        func()\n",
    "        print('Do something after')\n",
    "    return wrapper\n",
    "    \n",
    "    \n",
    "@my_decorator\n",
    "def foo():\n",
    "    print('doing something')\n"
   ]
  },
  {
   "cell_type": "markdown",
   "metadata": {},
   "source": [
    "### Sandwitch example:"
   ]
  },
  {
   "cell_type": "code",
   "execution_count": 16,
   "metadata": {},
   "outputs": [
    {
     "name": "stdout",
     "output_type": "stream",
     "text": [
      "</''''''\\>\n",
      "#tomatoes#\n",
      "--ham--\n",
      "~salad~\n",
      "<\\______/>\n"
     ]
    }
   ],
   "source": [
    "def bread(func):\n",
    "    def wrapper():\n",
    "        print (\"</''''''\\>\")\n",
    "        func()\n",
    "        print (\"<\\______/>\")\n",
    "    return wrapper\n",
    "\n",
    "def ingredients(func):\n",
    "    def wrapper():\n",
    "        print ('#tomatoes#')\n",
    "        func()\n",
    "        print ('~salad~')\n",
    "    return wrapper\n",
    "\n",
    "def sandwich(food='--ham--'):\n",
    "    print (food)\n",
    "\n",
    "sandwich = bread(ingredients(sandwich))\n",
    "\n",
    "\n",
    "sandwich()"
   ]
  },
  {
   "cell_type": "markdown",
   "metadata": {},
   "source": [
    "### Now let's use the Python Decorators instead:"
   ]
  },
  {
   "cell_type": "code",
   "execution_count": 17,
   "metadata": {},
   "outputs": [],
   "source": [
    "@bread\n",
    "@ingredients\n",
    "def sandwich(food='--ham--'):\n",
    "    print (food)"
   ]
  },
  {
   "cell_type": "markdown",
   "metadata": {},
   "source": [
    "### A practical example:"
   ]
  },
  {
   "cell_type": "code",
   "execution_count": 61,
   "metadata": {},
   "outputs": [
    {
     "name": "stdout",
     "output_type": "stream",
     "text": [
      "my_function (10000,) {}\n"
     ]
    }
   ],
   "source": [
    "import time\n",
    "\n",
    "def benchmark(func):\n",
    "    \"\"\"\n",
    "    A decorator that prints the time a function takes\n",
    "    to execute.\n",
    "    \"\"\"\n",
    "    def wrapper(*args, **kwargs):\n",
    "        t = time.time()\n",
    "        res = func(*args, **kwargs)\n",
    "        print (f'{func.__name__} {time.time()-t} seconds')\n",
    "        return res\n",
    "    return wrapper\n",
    "\n",
    "\n",
    "def logging(func):\n",
    "    \"\"\"\n",
    "    A decorator that logs the activity of the script.\n",
    "    (it actually just prints it, but it could be logging!)\n",
    "    \"\"\"\n",
    "    def wrapper(*args, **kwargs):\n",
    "        res = func(*args, **kwargs)\n",
    "        print (f'{func.__name__} {args} {kwargs}')\n",
    "        return res\n",
    "    return wrapper\n",
    "\n",
    "\n",
    "def counter(func):\n",
    "    \"\"\"\n",
    "    A decorator that counts and prints the number of times a function has been executed\n",
    "    \"\"\"\n",
    "    def wrapper(*args, **kwargs):\n",
    "        wrapper.count = wrapper.count + 1\n",
    "        res = func(*args, **kwargs)\n",
    "        print ('{0} has been used: {1}x'.format(func.__name__, wrapper.count))\n",
    "        return res\n",
    "    wrapper.count = 0\n",
    "    return wrapper\n",
    "\n",
    "@logging\n",
    "def my_function(num):\n",
    "    temp = []\n",
    "    for i in range(num):\n",
    "        temp.append(i * i ^ 2)\n",
    "        \n",
    "    return temp\n",
    "\n",
    "\n",
    "numbers = my_function(10000)\n",
    "\n"
   ]
  },
  {
   "cell_type": "markdown",
   "metadata": {},
   "source": [
    "### Decorating Classes:\n",
    "\n",
    "- There are some built-in decorators in Python: https://docs.python.org/3/library/functions.html\n",
    "- We can use them to indicate static and class methods, and property getters and setters"
   ]
  },
  {
   "cell_type": "code",
   "execution_count": 67,
   "metadata": {},
   "outputs": [],
   "source": [
    "class Circle:\n",
    "    def __init__(self, radius):\n",
    "        self._radius = radius\n",
    "\n",
    "    @property\n",
    "    def radius(self):\n",
    "        \"\"\"Get value of radius\"\"\"\n",
    "        return self._radius\n",
    "\n",
    "    @radius.setter\n",
    "    def radius(self, value):\n",
    "        \"\"\"Set radius, raise error if negative\"\"\"\n",
    "        if value >= 0:\n",
    "            self._radius = value\n",
    "        else:\n",
    "            raise ValueError(\"Radius must be positive\")\n",
    "\n",
    "    @property\n",
    "    def area(self):\n",
    "        \"\"\"Calculate area inside circle\"\"\"\n",
    "        return self.pi() * self.radius**2\n",
    "\n",
    "    def cylinder_volume(self, height):\n",
    "        \"\"\"Calculate volume of cylinder with circle as base\"\"\"\n",
    "        return self.area * height\n",
    "\n",
    "    @classmethod\n",
    "    def unit_circle(cls):\n",
    "        \"\"\"Factory method creating a circle with radius 1\"\"\"\n",
    "        return cls(1)\n",
    "\n",
    "    @staticmethod\n",
    "    def pi():\n",
    "        \"\"\"Value of π, could use math.pi instead though\"\"\"\n",
    "        return 3.1415926535"
   ]
  },
  {
   "cell_type": "code",
   "execution_count": 66,
   "metadata": {},
   "outputs": [],
   "source": [
    "c = Circle(5)\n"
   ]
  },
  {
   "cell_type": "markdown",
   "metadata": {},
   "source": [
    "----"
   ]
  },
  {
   "cell_type": "markdown",
   "metadata": {},
   "source": [
    "## Dunder or magic methods:\n",
    "#### Documentation: https://docs.python.org/3/reference/datamodel.html\n",
    "\n",
    "#### Situation: \n",
    " - Top-level function or top-level syntax\n",
    " \n",
    "#### Need:\n",
    " - We want to tell Python, for this arbitary object, do this behaviour (notion of addition, object representation, etc).\n",
    " \n",
    "#### Solution:\n",
    " - Every object in python has a list of dunder(double underscore) or magic methods.\n",
    " - We can overload them, providing custom functionality to our arbitary object.\n",
    "\n",
    "#### Example:\n",
    "\n",
    "- In the context of an project, we want to create a Polynomial class:"
   ]
  },
  {
   "cell_type": "code",
   "execution_count": 4,
   "metadata": {},
   "outputs": [],
   "source": [
    "class Polynomial:\n",
    "    def __init__(self, *coeffs):\n",
    "        self.coeffs = coeffs"
   ]
  },
  {
   "cell_type": "code",
   "execution_count": 5,
   "metadata": {},
   "outputs": [],
   "source": [
    "p1 = Polynomial(1, 2, 3) # x^2 + 2x + 3\n",
    "p2 = Polynomial(3, 4, 5) # 3x^2 + 4x + 3\n"
   ]
  },
  {
   "cell_type": "markdown",
   "metadata": {},
   "source": [
    "### Lets try to print our polynomial:"
   ]
  },
  {
   "cell_type": "code",
   "execution_count": 4,
   "metadata": {},
   "outputs": [
    {
     "data": {
      "text/plain": [
       "<__main__.Polynomial at 0x10ba49910>"
      ]
     },
     "execution_count": 4,
     "metadata": {},
     "output_type": "execute_result"
    }
   ],
   "source": [
    "p1"
   ]
  },
  {
   "cell_type": "markdown",
   "metadata": {},
   "source": [
    "### Lets try to add two polynomials together:"
   ]
  },
  {
   "cell_type": "code",
   "execution_count": 5,
   "metadata": {},
   "outputs": [
    {
     "ename": "TypeError",
     "evalue": "unsupported operand type(s) for +: 'Polynomial' and 'Polynomial'",
     "output_type": "error",
     "traceback": [
      "\u001b[0;31m---------------------------------------------------------------------------\u001b[0m",
      "\u001b[0;31mTypeError\u001b[0m                                 Traceback (most recent call last)",
      "\u001b[0;32m<ipython-input-5-a0c3d63f397c>\u001b[0m in \u001b[0;36m<module>\u001b[0;34m\u001b[0m\n\u001b[0;32m----> 1\u001b[0;31m \u001b[0mp1\u001b[0m \u001b[0;34m+\u001b[0m \u001b[0mp2\u001b[0m\u001b[0;34m\u001b[0m\u001b[0;34m\u001b[0m\u001b[0m\n\u001b[0m",
      "\u001b[0;31mTypeError\u001b[0m: unsupported operand type(s) for +: 'Polynomial' and 'Polynomial'"
     ]
    }
   ],
   "source": [
    "p1 + p2"
   ]
  },
  {
   "cell_type": "markdown",
   "metadata": {},
   "source": [
    "### Not so handy, solution?  \n",
    "\n",
    "Moving to ./code/magic_methods.py\n"
   ]
  },
  {
   "cell_type": "markdown",
   "metadata": {},
   "source": [
    "### In essence:\n",
    "\n",
    "- We want to initialize an object -> \\__init__\n",
    "- We want to add two objects -> \\__add__\n",
    "- We want to figure out the notion of length for an object -> \\__len__"
   ]
  },
  {
   "cell_type": "markdown",
   "metadata": {},
   "source": [
    "-----"
   ]
  }
 ],
 "metadata": {
  "kernelspec": {
   "display_name": "Python 3",
   "language": "python",
   "name": "python3"
  },
  "language_info": {
   "codemirror_mode": {
    "name": "ipython",
    "version": 3
   },
   "file_extension": ".py",
   "mimetype": "text/x-python",
   "name": "python",
   "nbconvert_exporter": "python",
   "pygments_lexer": "ipython3",
   "version": "3.7.5"
  }
 },
 "nbformat": 4,
 "nbformat_minor": 2
}
