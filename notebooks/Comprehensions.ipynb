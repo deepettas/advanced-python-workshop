{
 "cells": [
  {
   "cell_type": "markdown",
   "metadata": {},
   "source": [
    "## Comprehensions:\n",
    "#### Documentation: https://python-3-patterns-idioms-test.readthedocs.io/en/latest/Comprehensions.html\n",
    "\n",
    "#### Situation: \n",
    " - We have one or more sources of iterable data.\n",
    " \n",
    "#### Need:\n",
    " - We want to do something with that data, and output it into a list, dictionary or generator format.\n",
    " \n",
    "#### Solution:\n",
    " - Python offers a cleaner/faster way of working without using traditional for loops.\n",
    "\n",
    "-----\n",
    "\n",
    " \n",
    "#### Example:\n",
    " - Lets take a traditional for loop"
   ]
  },
  {
   "cell_type": "code",
   "execution_count": 1,
   "metadata": {},
   "outputs": [
    {
     "data": {
      "text/plain": [
       "[0, 4, 16, 36, 64, 100]"
      ]
     },
     "execution_count": 1,
     "metadata": {},
     "output_type": "execute_result"
    }
   ],
   "source": [
    "even_squares = []\n",
    "for num in range(11):\n",
    "    if num%2 == 0:\n",
    "        even_squares.append(num * num)\n",
    "\n",
    "even_squares\n"
   ]
  },
  {
   "cell_type": "code",
   "execution_count": 31,
   "metadata": {},
   "outputs": [
    {
     "data": {
      "text/plain": [
       "[0, 4, 16, 36, 64, 100]"
      ]
     },
     "execution_count": 31,
     "metadata": {},
     "output_type": "execute_result"
    }
   ],
   "source": [
    "# Can we do better than the above?\n",
    "\n",
    "even_squares = [num*num for num in range(11) if num%2 == 0]\n",
    "\n",
    "even_squares"
   ]
  },
  {
   "cell_type": "markdown",
   "metadata": {},
   "source": [
    "### List comprehension Pattern:\n",
    "![alt text](https://miro.medium.com/max/1716/1*xUhlknsL6rR-s_DcVQK7kQ.png)\n",
    "##### [Figure reference](https://towardsdatascience.com/comprehending-the-concept-of-comprehensions-in-python-c9dafce5111)\n",
    " \n"
   ]
  },
  {
   "cell_type": "markdown",
   "metadata": {},
   "source": [
    "### We can do the same with dictionaries, or generators:"
   ]
  },
  {
   "cell_type": "code",
   "execution_count": 5,
   "metadata": {},
   "outputs": [
    {
     "data": {
      "text/plain": [
       "{'Mark': 'Zuckerberg',\n",
       " 'Demmis': 'Hasabis',\n",
       " 'Elon': 'Musk',\n",
       " 'Jeff': 'Bezos',\n",
       " 'Lex': 'Fridman'}"
      ]
     },
     "execution_count": 5,
     "metadata": {},
     "output_type": "execute_result"
    }
   ],
   "source": [
    "first_names = ['Mark', 'Demmis', 'Elon', 'Jeff', 'Lex']\n",
    "last_names = ['Zuckerberg','Hasabis', 'Musk','Bezos','Fridman']\n",
    "\n",
    "full_names = {}\n",
    "for first, last in zip(first_names, last_names):\n",
    "    full_names[first] = last\n",
    "    \n",
    "full_names"
   ]
  },
  {
   "cell_type": "code",
   "execution_count": 7,
   "metadata": {},
   "outputs": [
    {
     "data": {
      "text/plain": [
       "5"
      ]
     },
     "execution_count": 7,
     "metadata": {},
     "output_type": "execute_result"
    }
   ],
   "source": [
    "full_names = {first: last for first, last in zip(first_names, last_names)}\n",
    "\n",
    "full_names\n",
    "# len(full_names)"
   ]
  },
  {
   "cell_type": "markdown",
   "metadata": {},
   "source": [
    "## How about a generator?\n",
    "Like a comprehension but waits, and yields each item out of the expression, one by one."
   ]
  },
  {
   "cell_type": "code",
   "execution_count": 32,
   "metadata": {},
   "outputs": [],
   "source": [
    "# even_squares was [0, 4, 16, 36, 64, 100] with the list comprehension\n",
    "\n",
    "# generator equivallent\n",
    "even_squares = (num*num for num in range(11) if num%2 == 0)"
   ]
  },
  {
   "cell_type": "code",
   "execution_count": 34,
   "metadata": {},
   "outputs": [
    {
     "data": {
      "text/plain": [
       "4"
      ]
     },
     "execution_count": 34,
     "metadata": {},
     "output_type": "execute_result"
    }
   ],
   "source": [
    "next(even_squares)"
   ]
  }
 ],
 "metadata": {
  "kernelspec": {
   "display_name": "Python 3",
   "language": "python",
   "name": "python3"
  },
  "language_info": {
   "codemirror_mode": {
    "name": "ipython",
    "version": 3
   },
   "file_extension": ".py",
   "mimetype": "text/x-python",
   "name": "python",
   "nbconvert_exporter": "python",
   "pygments_lexer": "ipython3",
   "version": "3.7.5"
  }
 },
 "nbformat": 4,
 "nbformat_minor": 2
}
