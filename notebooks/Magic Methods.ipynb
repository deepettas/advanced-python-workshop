{
 "cells": [
  {
   "cell_type": "markdown",
   "metadata": {},
   "source": [
    "## * Dunder or magic methods:\n",
    "#### Documentation: https://docs.python.org/3/reference/datamodel.html\n",
    "\n",
    "#### Situation: \n",
    " - Top-level function or top-level syntax\n",
    " \n",
    "#### Need:\n",
    " - We want to tell Python, for this arbitary object, do this behaviour (notion of addition, object representation, etc).\n",
    " \n",
    "#### Solution:\n",
    " - Every object in python has a list of dunder(double underscore) or magic methods.\n",
    " - We can overload them, providing custom functionality to our arbitary object.\n",
    "\n",
    "#### Example:\n",
    "\n",
    "- In the context of an project, we want to create a Polynomial class:"
   ]
  },
  {
   "cell_type": "code",
   "execution_count": 1,
   "metadata": {},
   "outputs": [],
   "source": [
    "class Polynomial:\n",
    "    def __init__(self, *coeffs):\n",
    "        self.coeffs = coeffs"
   ]
  },
  {
   "cell_type": "code",
   "execution_count": 2,
   "metadata": {},
   "outputs": [],
   "source": [
    "p1 = Polynomial(1, 2, 3) # x^2 + 2x + 3\n",
    "p2 = Polynomial(3, 4, 5) # 3x^2 + 4x + 3\n"
   ]
  },
  {
   "cell_type": "markdown",
   "metadata": {},
   "source": [
    "### Lets try to print our polynomial:"
   ]
  },
  {
   "cell_type": "code",
   "execution_count": 3,
   "metadata": {},
   "outputs": [
    {
     "data": {
      "text/plain": [
       "<__main__.Polynomial at 0x1133fb290>"
      ]
     },
     "execution_count": 3,
     "metadata": {},
     "output_type": "execute_result"
    }
   ],
   "source": [
    "p1"
   ]
  },
  {
   "cell_type": "markdown",
   "metadata": {},
   "source": [
    "### Lets try to add two polynomials together:"
   ]
  },
  {
   "cell_type": "code",
   "execution_count": 4,
   "metadata": {},
   "outputs": [
    {
     "ename": "TypeError",
     "evalue": "unsupported operand type(s) for +: 'Polynomial' and 'Polynomial'",
     "output_type": "error",
     "traceback": [
      "\u001b[0;31m---------------------------------------------------------------------------\u001b[0m",
      "\u001b[0;31mTypeError\u001b[0m                                 Traceback (most recent call last)",
      "\u001b[0;32m<ipython-input-4-a0c3d63f397c>\u001b[0m in \u001b[0;36m<module>\u001b[0;34m\u001b[0m\n\u001b[0;32m----> 1\u001b[0;31m \u001b[0mp1\u001b[0m \u001b[0;34m+\u001b[0m \u001b[0mp2\u001b[0m\u001b[0;34m\u001b[0m\u001b[0;34m\u001b[0m\u001b[0m\n\u001b[0m",
      "\u001b[0;31mTypeError\u001b[0m: unsupported operand type(s) for +: 'Polynomial' and 'Polynomial'"
     ]
    }
   ],
   "source": [
    "p1 + p2"
   ]
  },
  {
   "cell_type": "markdown",
   "metadata": {},
   "source": [
    "### Not so handy, solution?  \n",
    "\n",
    "Moving to ./code/magic_methods.py\n"
   ]
  },
  {
   "cell_type": "code",
   "execution_count": 41,
   "metadata": {},
   "outputs": [],
   "source": [
    "class Polynomial:\n",
    "    def __init__(self, *coeffs):\n",
    "        self.coeffs = coeffs\n",
    "\n",
    "    # Works differently in IPython(Jupyter)\n",
    "    def __repr__(self):\n",
    "        return 'Polynomial(*{!r})'.format(self.coeffs)\n",
    "\n",
    "    # Notion of addition\n",
    "    def __add__(self, other):\n",
    "        return Polynomial(*((x + y) for x, y in zip(self.coeffs, other.coeffs)))\n",
    "\n"
   ]
  },
  {
   "cell_type": "code",
   "execution_count": 42,
   "metadata": {},
   "outputs": [
    {
     "name": "stdout",
     "output_type": "stream",
     "text": [
      "Polynomial(*(7, 10, 13))\n"
     ]
    }
   ],
   "source": [
    "p1 = Polynomial(1, 2, 3) # x^2 + 2x + 3\n",
    "p2 = Polynomial(3, 4, 5) # 3x^2 + 4x + 3\n",
    "\n",
    "print(p1 + p2 + p2)\n"
   ]
  },
  {
   "cell_type": "markdown",
   "metadata": {},
   "source": [
    "### In essence:\n",
    "\n",
    "- We want to initialize an object -> \\__init__\n",
    "- We want to add two objects -> \\__add__\n",
    "- We want to figure out the notion of length for an object -> \\__len__"
   ]
  },
  {
   "cell_type": "code",
   "execution_count": 39,
   "metadata": {},
   "outputs": [],
   "source": [
    "class Angle:\n",
    "    def __init__(self, degrees):\n",
    "        self.degrees = degrees % 360\n",
    "a = Angle(20)\n",
    "b = Angle(380)\n",
    "c = Angle(45)    \n",
    "\n",
    "    \n",
    "    "
   ]
  },
  {
   "cell_type": "code",
   "execution_count": 40,
   "metadata": {},
   "outputs": [
    {
     "data": {
      "text/plain": [
       "False"
      ]
     },
     "execution_count": 40,
     "metadata": {},
     "output_type": "execute_result"
    }
   ],
   "source": [
    "# b == a\n",
    "# c >= a\n",
    "# b < c\n",
    "# a < b"
   ]
  },
  {
   "cell_type": "code",
   "execution_count": 34,
   "metadata": {},
   "outputs": [],
   "source": [
    "\n",
    "\n",
    "\n",
    "# class Angle:\n",
    "#     def __init__(self, degrees):\n",
    "#         # Wrap it around so that the value is always\n",
    "#         # in the interval of 0 and 359.999...\n",
    "#         self.degrees = degrees % 360\n",
    "#     # Less-than\n",
    "#     def __lt__(self, other):\n",
    "#         return self.degrees < other.degrees\n",
    "#     # Less-than-or-equals\n",
    "#     def __le__(self, other):\n",
    "#         return self.degrees <= other.degrees\n",
    "#     # Greater-than\n",
    "#     def __gt__(self, other):\n",
    "#         return self.degrees > other.degrees\n",
    "#     # Greater-than-or-equals\n",
    "#     def __ge__(self, other):\n",
    "#         return self.degrees >= other.degrees\n",
    "#     # Equals\n",
    "#     def __eq__(self, other):\n",
    "#         return self.degrees == other.degrees"
   ]
  },
  {
   "cell_type": "code",
   "execution_count": 35,
   "metadata": {},
   "outputs": [],
   "source": [
    "a = Angle(20)\n",
    "b = Angle(380)\n",
    "c = Angle(45)"
   ]
  },
  {
   "cell_type": "code",
   "execution_count": 32,
   "metadata": {},
   "outputs": [],
   "source": [
    "# b == a\n",
    "# c >= a\n",
    "# b < c\n",
    "# a < b"
   ]
  },
  {
   "cell_type": "code",
   "execution_count": 26,
   "metadata": {},
   "outputs": [
    {
     "data": {
      "text/plain": [
       "'2020-01-02 15:43:48.598530'"
      ]
     },
     "execution_count": 26,
     "metadata": {},
     "output_type": "execute_result"
    }
   ],
   "source": [
    "import datetime\n",
    "\n",
    "now = datetime.datetime.now()\n",
    "str(now)"
   ]
  },
  {
   "cell_type": "code",
   "execution_count": 27,
   "metadata": {},
   "outputs": [
    {
     "data": {
      "text/plain": [
       "'datetime.datetime(2020, 1, 2, 15, 43, 48, 598530)'"
      ]
     },
     "execution_count": 27,
     "metadata": {},
     "output_type": "execute_result"
    }
   ],
   "source": [
    "repr(now)\n",
    "\n"
   ]
  },
  {
   "cell_type": "code",
   "execution_count": null,
   "metadata": {},
   "outputs": [],
   "source": [
    "my_list = list()\n",
    "\n",
    "\n",
    "[num + 1 for num in my_list]\n"
   ]
  }
 ],
 "metadata": {
  "kernelspec": {
   "display_name": "Python 3",
   "language": "python",
   "name": "python3"
  },
  "language_info": {
   "codemirror_mode": {
    "name": "ipython",
    "version": 3
   },
   "file_extension": ".py",
   "mimetype": "text/x-python",
   "name": "python",
   "nbconvert_exporter": "python",
   "pygments_lexer": "ipython3",
   "version": "3.7.3"
  }
 },
 "nbformat": 4,
 "nbformat_minor": 2
}
